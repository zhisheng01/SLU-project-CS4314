{
 "cells": [
  {
   "cell_type": "code",
   "execution_count": 14,
   "metadata": {},
   "outputs": [],
   "source": [
    "import json\n",
    "\n",
    "characters = []\n",
    "with open('../data/train.json') as rf:\n",
    "    trains = json.load(rf)\n",
    "    for data in trains:\n",
    "        for utt in data:\n",
    "            text = utt['manual_transcript']\n",
    "            characters += list(text)\n",
    "\n",
    "char = set(characters)\n",
    "numOfWord = len(char)\n",
    "\n",
    "with open('../data/word2vec.txt', 'w') as wf:\n",
    "    for idx in range(numOfWord):\n",
    "        print(char[idx], [], []*)"
   ]
  },
  {
   "cell_type": "code",
   "execution_count": 17,
   "metadata": {},
   "outputs": [
    {
     "data": {
      "text/plain": [
       "(1739, 41587)"
      ]
     },
     "execution_count": 17,
     "metadata": {},
     "output_type": "execute_result"
    }
   ],
   "source": []
  },
  {
   "cell_type": "code",
   "execution_count": 1,
   "metadata": {},
   "outputs": [
    {
     "name": "stderr",
     "output_type": "stream",
     "text": [
      "Some weights of the model checkpoint at bert-base-chinese were not used when initializing BertForMaskedLM: ['cls.seq_relationship.weight', 'cls.seq_relationship.bias']\n",
      "- This IS expected if you are initializing BertForMaskedLM from the checkpoint of a model trained on another task or with another architecture (e.g. initializing a BertForSequenceClassification model from a BertForPreTraining model).\n",
      "- This IS NOT expected if you are initializing BertForMaskedLM from the checkpoint of a model that you expect to be exactly identical (initializing a BertForSequenceClassification model from a BertForSequenceClassification model).\n"
     ]
    }
   ],
   "source": [
    "from transformers import AutoTokenizer, AutoModelForMaskedLM\n",
    "\n",
    "tokenizer = AutoTokenizer.from_pretrained(\"bert-base-chinese\")\n",
    "model = AutoModelForMaskedLM.from_pretrained(\"bert-base-chinese\")"
   ]
  },
  {
   "cell_type": "code",
   "execution_count": 2,
   "metadata": {},
   "outputs": [],
   "source": [
    "word2vec = {}"
   ]
  },
  {
   "cell_type": "code",
   "execution_count": 3,
   "metadata": {},
   "outputs": [
    {
     "data": {
      "text/plain": [
       "'\\n麻烦到世纪城m k ktv\\nktv\\n导航去八方豪情ktv\\n去天宫一号ktv\\nbeyond的歌beyond\\ni love you\\n小明i love you\\n'"
      ]
     },
     "execution_count": 3,
     "metadata": {},
     "output_type": "execute_result"
    }
   ],
   "source": [
    "import json\n",
    "import re\n",
    "\n",
    "regex = \"\\(.*\\)\"\n",
    "# special = ['(unknown)', '(side)', '(dialect)', '(robot)', '(noise)']\n",
    "\n",
    "with open('../data/train.json') as rf:\n",
    "    trains = json.load(rf)\n",
    "    for data in trains:\n",
    "        for utt in data:\n",
    "            text = utt['manual_transcript']\n",
    "            text = re.sub(regex, '', text)\n",
    "\n",
    "            encoded_input = tokenizer(text, return_tensors='pt')\n",
    "            output = model(**encoded_input)\n",
    "            \n",
    "            try:\n",
    "                for idx in range(len(text)):\n",
    "                    word2vec[text[idx]] = output[0][0][idx+1]\n",
    "            except:\n",
    "                pass\n",
    "\n",
    "\"\"\"\n",
    "麻烦到世纪城m k ktv\n",
    "ktv\n",
    "导航去八方豪情ktv\n",
    "去天宫一号ktv\n",
    "beyond的歌beyond\n",
    "i love you\n",
    "小明i love you\n",
    "\"\"\"\n"
   ]
  },
  {
   "cell_type": "code",
   "execution_count": 6,
   "metadata": {},
   "outputs": [],
   "source": [
    "with open('../data/word2vec.txt', 'w') as wf:\n",
    "    print('<unk>', *word2vec['导'].tolist()[:768], file=wf)\n",
    "    for key, value in word2vec.items():\n",
    "        print(key, *value.tolist()[:768], file=wf)\n",
    "        #! 有很大问题这里，向量只用于debug"
   ]
  }
 ],
 "metadata": {
  "kernelspec": {
   "display_name": "fairseq",
   "language": "python",
   "name": "python3"
  },
  "language_info": {
   "codemirror_mode": {
    "name": "ipython",
    "version": 3
   },
   "file_extension": ".py",
   "mimetype": "text/x-python",
   "name": "python",
   "nbconvert_exporter": "python",
   "pygments_lexer": "ipython3",
   "version": "3.8.13"
  },
  "orig_nbformat": 4,
  "vscode": {
   "interpreter": {
    "hash": "16796446d97524569025e6c1ee6bf7677693a2d560e63e6b3e1fdb48f97136bd"
   }
  }
 },
 "nbformat": 4,
 "nbformat_minor": 2
}
