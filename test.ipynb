{
 "cells": [
  {
   "cell_type": "code",
   "execution_count": 1,
   "metadata": {},
   "outputs": [
    {
     "name": "stdout",
     "output_type": "stream",
     "text": [
      "(1, 2, 3) 1 2 3\n"
     ]
    }
   ],
   "source": [
    "a=(1,2,3)\n",
    "b,c,d=a\n",
    "print(a,b,c,d)"
   ]
  }
 ],
 "metadata": {
  "kernelspec": {
   "display_name": "Python 3",
   "language": "python",
   "name": "python3"
  },
  "language_info": {
   "codemirror_mode": {
    "name": "ipython",
    "version": 3
   },
   "file_extension": ".py",
   "mimetype": "text/x-python",
   "name": "python",
   "nbconvert_exporter": "python",
   "pygments_lexer": "ipython3",
   "version": "3.10.8"
  },
  "orig_nbformat": 4,
  "vscode": {
   "interpreter": {
    "hash": "e6f2ca8fa0cf32d70c873df89d9fb8c54d9bc590d4602e35ac37d83cc3c2f80f"
   }
  }
 },
 "nbformat": 4,
 "nbformat_minor": 2
}
